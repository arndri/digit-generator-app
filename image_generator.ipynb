{
  "nbformat": 4,
  "nbformat_minor": 0,
  "metadata": {
    "colab": {
      "provenance": [],
      "gpuType": "T4"
    },
    "kernelspec": {
      "name": "python3",
      "display_name": "Python 3"
    },
    "language_info": {
      "name": "python"
    },
    "accelerator": "GPU"
  },
  "cells": [
    {
      "cell_type": "code",
      "source": [
        "import torch\n",
        "import torch.nn as nn\n",
        "import torch.optim as optim\n",
        "from torch.utils.data import DataLoader\n",
        "from torchvision import datasets, transforms\n",
        "import numpy as np\n",
        "import matplotlib.pyplot as plt"
      ],
      "metadata": {
        "id": "o1xtyUIJ8f01"
      },
      "execution_count": null,
      "outputs": []
    },
    {
      "cell_type": "code",
      "source": [
        "device = torch.device(\"cuda\" if torch.cuda.is_available() else \"cpu\")\n",
        "print(f\"Using device: {device}\")\n",
        "\n",
        "latent_dim = 100\n",
        "n_classes = 10\n",
        "img_shape = (1, 28, 28)\n",
        "img_size = 28\n",
        "\n",
        "lr = 0.0002\n",
        "batch_size = 64\n",
        "n_epochs = 50\n",
        "\n",
        "transform = transforms.Compose([\n",
        "    transforms.Resize(img_size),\n",
        "    transforms.ToTensor(),\n",
        "    transforms.Normalize([0.5], [0.5])\n",
        "])\n",
        "\n",
        "mnist_dataset = datasets.MNIST(\n",
        "    root=\".\",\n",
        "    train=True,\n",
        "    download=True,\n",
        "    transform=transform\n",
        ")\n",
        "\n",
        "dataloader = DataLoader(\n",
        "    mnist_dataset,\n",
        "    batch_size=batch_size,\n",
        "    shuffle=True\n",
        ")\n"
      ],
      "metadata": {
        "colab": {
          "base_uri": "https://localhost:8080/"
        },
        "id": "Cc50CtW08hQh",
        "outputId": "3f417f43-4fb7-4ac7-cb3f-cd2f6fac2623"
      },
      "execution_count": null,
      "outputs": [
        {
          "output_type": "stream",
          "name": "stdout",
          "text": [
            "Using device: cuda\n"
          ]
        },
        {
          "output_type": "stream",
          "name": "stderr",
          "text": [
            "100%|██████████| 9.91M/9.91M [00:00<00:00, 17.9MB/s]\n",
            "100%|██████████| 28.9k/28.9k [00:00<00:00, 484kB/s]\n",
            "100%|██████████| 1.65M/1.65M [00:00<00:00, 4.47MB/s]\n",
            "100%|██████████| 4.54k/4.54k [00:00<00:00, 6.07MB/s]\n"
          ]
        }
      ]
    },
    {
      "cell_type": "code",
      "source": [
        "class Generator(nn.Module):\n",
        "    def __init__(self):\n",
        "        super(Generator, self).__init__()\n",
        "        self.label_embedding = nn.Embedding(n_classes, n_classes)\n",
        "\n",
        "        self.model = nn.Sequential(\n",
        "            nn.Linear(latent_dim + n_classes, 128),\n",
        "            nn.LeakyReLU(0.2, inplace=True),\n",
        "\n",
        "            nn.Linear(128, 256),\n",
        "            nn.BatchNorm1d(256, 0.8),\n",
        "            nn.LeakyReLU(0.2, inplace=True),\n",
        "\n",
        "            nn.Linear(256, 512),\n",
        "            nn.BatchNorm1d(512, 0.8),\n",
        "            nn.LeakyReLU(0.2, inplace=True),\n",
        "\n",
        "            nn.Linear(512, 1024),\n",
        "            nn.BatchNorm1d(1024, 0.8),\n",
        "            nn.LeakyReLU(0.2, inplace=True),\n",
        "\n",
        "            nn.Linear(1024, int(np.prod(img_shape))),\n",
        "            nn.Tanh()\n",
        "        )\n",
        "\n",
        "    def forward(self, noise, labels):\n",
        "        embedded_labels = self.label_embedding(labels)\n",
        "        gen_input = torch.cat((embedded_labels, noise), -1)\n",
        "        img = self.model(gen_input)\n",
        "        img = img.view(img.size(0), *img_shape)\n",
        "        return img\n",
        "\n",
        "class Discriminator(nn.Module):\n",
        "    def __init__(self):\n",
        "        super(Discriminator, self).__init__()\n",
        "        self.label_embedding = nn.Embedding(n_classes, n_classes)\n",
        "\n",
        "        self.model = nn.Sequential(\n",
        "            nn.Linear(n_classes + int(np.prod(img_shape)), 512),\n",
        "            nn.LeakyReLU(0.2, inplace=True),\n",
        "\n",
        "            nn.Linear(512, 512),\n",
        "            nn.Dropout(0.4),\n",
        "            nn.LeakyReLU(0.2, inplace=True),\n",
        "\n",
        "            nn.Linear(512, 512),\n",
        "            nn.Dropout(0.4),\n",
        "            nn.LeakyReLU(0.2, inplace=True),\n",
        "\n",
        "            nn.Linear(512, 1),\n",
        "            nn.Sigmoid()\n",
        "        )\n",
        "\n",
        "    def forward(self, img, labels):\n",
        "        img_flat = img.view(img.size(0), -1)\n",
        "        embedded_labels = self.label_embedding(labels)\n",
        "        d_in = torch.cat((img_flat, embedded_labels), -1)\n",
        "        validity = self.model(d_in)\n",
        "        return validity\n"
      ],
      "metadata": {
        "id": "jqoWLDHL8nJM"
      },
      "execution_count": null,
      "outputs": []
    },
    {
      "cell_type": "code",
      "source": [
        "adversarial_loss = torch.nn.BCELoss()\n",
        "\n",
        "generator = Generator().to(device)\n",
        "discriminator = Discriminator().to(device)\n",
        "\n",
        "optimizer_G = torch.optim.Adam(generator.parameters(), lr=lr, betas=(0.5, 0.999))\n",
        "optimizer_D = torch.optim.Adam(discriminator.parameters(), lr=lr, betas=(0.5, 0.999))"
      ],
      "metadata": {
        "id": "SXQPERB78q46"
      },
      "execution_count": null,
      "outputs": []
    },
    {
      "cell_type": "code",
      "execution_count": null,
      "metadata": {
        "colab": {
          "base_uri": "https://localhost:8080/",
          "height": 1000
        },
        "id": "fvpg_--78d7c",
        "outputId": "534c0c35-72a7-4331-b512-029a7e53cb2f"
      },
      "outputs": [
        {
          "output_type": "stream",
          "name": "stdout",
          "text": [
            "Starting Training Loop...\n",
            "[Epoch 1/50] [D loss: 0.2196] [G loss: 1.6756]\n",
            "[Epoch 2/50] [D loss: 0.2442] [G loss: 1.9764]\n",
            "[Epoch 3/50] [D loss: 0.1767] [G loss: 1.8027]\n",
            "[Epoch 4/50] [D loss: 0.4922] [G loss: 3.1505]\n",
            "[Epoch 5/50] [D loss: 0.9301] [G loss: 4.1815]\n",
            "[Epoch 6/50] [D loss: 0.3742] [G loss: 1.3196]\n",
            "[Epoch 7/50] [D loss: 0.4718] [G loss: 0.7002]\n",
            "[Epoch 8/50] [D loss: 0.4426] [G loss: 0.9204]\n",
            "[Epoch 9/50] [D loss: 0.2162] [G loss: 1.9819]\n",
            "[Epoch 10/50] [D loss: 0.4541] [G loss: 1.5638]\n",
            "[Epoch 11/50] [D loss: 0.4258] [G loss: 2.0868]\n",
            "[Epoch 12/50] [D loss: 0.5212] [G loss: 1.1727]\n",
            "[Epoch 13/50] [D loss: 0.5481] [G loss: 0.9879]\n",
            "[Epoch 14/50] [D loss: 0.5651] [G loss: 1.6110]\n",
            "[Epoch 15/50] [D loss: 0.5557] [G loss: 1.5064]\n",
            "[Epoch 16/50] [D loss: 0.5511] [G loss: 0.8308]\n",
            "[Epoch 17/50] [D loss: 0.6173] [G loss: 0.9693]\n",
            "[Epoch 18/50] [D loss: 0.5852] [G loss: 1.4038]\n",
            "[Epoch 19/50] [D loss: 0.5229] [G loss: 1.0183]\n",
            "[Epoch 20/50] [D loss: 0.5885] [G loss: 0.7862]\n",
            "[Epoch 21/50] [D loss: 0.6091] [G loss: 1.0175]\n",
            "[Epoch 22/50] [D loss: 0.6074] [G loss: 0.9135]\n",
            "[Epoch 23/50] [D loss: 0.5625] [G loss: 1.1972]\n",
            "[Epoch 24/50] [D loss: 0.6078] [G loss: 0.9686]\n",
            "[Epoch 25/50] [D loss: 0.5867] [G loss: 0.8068]\n",
            "[Epoch 26/50] [D loss: 0.6357] [G loss: 0.9506]\n",
            "[Epoch 27/50] [D loss: 0.6642] [G loss: 0.8386]\n",
            "[Epoch 28/50] [D loss: 0.6267] [G loss: 1.0053]\n",
            "[Epoch 29/50] [D loss: 0.6110] [G loss: 0.8383]\n",
            "[Epoch 30/50] [D loss: 0.5881] [G loss: 0.8041]\n",
            "[Epoch 31/50] [D loss: 0.6607] [G loss: 0.5873]\n",
            "[Epoch 32/50] [D loss: 0.6942] [G loss: 0.8368]\n",
            "[Epoch 33/50] [D loss: 0.6539] [G loss: 0.9318]\n",
            "[Epoch 34/50] [D loss: 0.6752] [G loss: 0.6592]\n",
            "[Epoch 35/50] [D loss: 0.6983] [G loss: 0.7868]\n",
            "[Epoch 36/50] [D loss: 0.6574] [G loss: 0.7924]\n",
            "[Epoch 37/50] [D loss: 0.6546] [G loss: 0.9095]\n",
            "[Epoch 38/50] [D loss: 0.6944] [G loss: 0.7979]\n",
            "[Epoch 39/50] [D loss: 0.7086] [G loss: 0.8737]\n",
            "[Epoch 40/50] [D loss: 0.6960] [G loss: 0.7519]\n",
            "[Epoch 41/50] [D loss: 0.6366] [G loss: 0.8088]\n",
            "[Epoch 42/50] [D loss: 0.6193] [G loss: 0.7957]\n",
            "[Epoch 43/50] [D loss: 0.6442] [G loss: 0.7140]\n",
            "[Epoch 44/50] [D loss: 0.6627] [G loss: 0.8275]\n",
            "[Epoch 45/50] [D loss: 0.6589] [G loss: 0.7357]\n",
            "[Epoch 46/50] [D loss: 0.6940] [G loss: 0.8921]\n",
            "[Epoch 47/50] [D loss: 0.7100] [G loss: 0.6566]\n",
            "[Epoch 48/50] [D loss: 0.6763] [G loss: 0.8170]\n",
            "[Epoch 49/50] [D loss: 0.7089] [G loss: 0.6767]\n",
            "[Epoch 50/50] [D loss: 0.6763] [G loss: 0.6644]\n",
            "Training finished.\n"
          ]
        },
        {
          "output_type": "display_data",
          "data": {
            "text/plain": [
              "<Figure size 1000x200 with 5 Axes>"
            ],
            "image/png": "[encoded data removed]"
          },
          "metadata": {}
        },
        {
          "output_type": "display_data",
          "data": {
            "text/plain": [
              "<Figure size 1000x200 with 5 Axes>"
            ],
            "image/png": "[encoded data removed]"
          },
          "metadata": {}
        }
      ],
      "source": [
        "print(\"Starting Training Loop...\")\n",
        "for epoch in range(n_epochs):\n",
        "    for i, (imgs, labels) in enumerate(dataloader):\n",
        "\n",
        "        valid = torch.full((imgs.size(0), 1), 1.0, dtype=torch.float, device=device)\n",
        "        fake = torch.full((imgs.size(0), 1), 0.0, dtype=torch.float, device=device)\n",
        "\n",
        "        real_imgs = imgs.to(device)\n",
        "        labels = labels.to(device)\n",
        "\n",
        "        optimizer_G.zero_grad()\n",
        "\n",
        "        z = torch.randn(imgs.size(0), latent_dim, device=device)\n",
        "        gen_labels = torch.randint(0, n_classes, (imgs.size(0),), device=device)\n",
        "\n",
        "        gen_imgs = generator(z, gen_labels)\n",
        "\n",
        "        validity = discriminator(gen_imgs, gen_labels)\n",
        "        g_loss = adversarial_loss(validity, valid)\n",
        "\n",
        "        g_loss.backward()\n",
        "        optimizer_G.step()\n",
        "\n",
        "        optimizer_D.zero_grad()\n",
        "\n",
        "        real_pred = discriminator(real_imgs, labels)\n",
        "        d_real_loss = adversarial_loss(real_pred, valid)\n",
        "\n",
        "        fake_pred = discriminator(gen_imgs.detach(), gen_labels)\n",
        "        d_fake_loss = adversarial_loss(fake_pred, fake)\n",
        "\n",
        "        d_loss = (d_real_loss + d_fake_loss) / 2\n",
        "\n",
        "        d_loss.backward()\n",
        "        optimizer_D.step()\n",
        "\n",
        "    print(\n",
        "        f\"[Epoch {epoch+1}/{n_epochs}] [D loss: {d_loss.item():.4f}] [G loss: {g_loss.item():.4f}]\"\n",
        "    )\n",
        "\n",
        "print(\"Training finished.\")\n",
        "\n",
        "def generate_digits(n_images, digit):\n",
        "    \"\"\"Generates and displays n_images of a specific digit.\"\"\"\n",
        "    generator.eval()\n",
        "\n",
        "    z = torch.randn(n_images, latent_dim, device=device)\n",
        "    labels = torch.full((n_images,), digit, dtype=torch.long, device=device)\n",
        "\n",
        "    with torch.no_grad():\n",
        "        generated_imgs = generator(z, labels).cpu()\n",
        "\n",
        "    generated_imgs = 0.5 * generated_imgs + 0.5\n",
        "\n",
        "    fig, axes = plt.subplots(1, n_images, figsize=(10, 2))\n",
        "    fig.suptitle(f\"Generated Images for Digit: {digit}\", fontsize=16)\n",
        "    for i, img_tensor in enumerate(generated_imgs):\n",
        "        ax = axes[i]\n",
        "        ax.imshow(img_tensor.squeeze(), cmap='gray')\n",
        "        ax.axis('off')\n",
        "    plt.show()\n",
        "\n",
        "generate_digits(n_images=5, digit=7)\n",
        "\n",
        "generate_digits(n_images=5, digit=3)\n",
        "\n",
        "\n"
      ]
    },
    {
      "cell_type": "code",
      "source": [
        "torch.save(generator.state_dict(), 'generator_mnist.pth')\n",
        "torch.save(discriminator.state_dict(), 'discriminator_mnist.pth')"
      ],
      "metadata": {
        "id": "7h7C-5mG9GFT"
      },
      "execution_count": null,
      "outputs": []
    },
    {
      "cell_type": "code",
      "source": [],
      "metadata": {
        "id": "nciBXp0H-x9y"
      },
      "execution_count": null,
      "outputs": []
    }
  ]
}